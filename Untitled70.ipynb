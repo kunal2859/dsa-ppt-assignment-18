{
 "cells": [
  {
   "cell_type": "code",
   "execution_count": 2,
   "id": "60cbb270",
   "metadata": {},
   "outputs": [
    {
     "data": {
      "text/plain": [
       "[[1, 4], [5, 13]]"
      ]
     },
     "execution_count": 2,
     "metadata": {},
     "output_type": "execute_result"
    }
   ],
   "source": [
    "def merge(intervals):\n",
    "    intervals.sort(key=lambda x: x[0])\n",
    "    merged = []\n",
    "    for interval in intervals:\n",
    "        if not merged or merged[-1][1] < interval[0]:\n",
    "            merged.append(interval)\n",
    "        else:\n",
    "            merged[-1][1] = max(merged[-1][1], interval[1])\n",
    "    return merged\n",
    "intervals=[[1,4],[5,10],[9,13]]\n",
    "merge(intervals)"
   ]
  },
  {
   "cell_type": "code",
   "execution_count": 3,
   "id": "a6e3ec27",
   "metadata": {},
   "outputs": [
    {
     "data": {
      "text/plain": [
       "[0, 0, 1, 1, 2, 2]"
      ]
     },
     "execution_count": 3,
     "metadata": {},
     "output_type": "execute_result"
    }
   ],
   "source": [
    "def sorted_array(nums):\n",
    "    while nums!=sorted(nums):\n",
    "        for i in range(1,len(nums)):\n",
    "            if nums[i]<nums[i-1]:\n",
    "                nums[i],nums[i-1]=nums[i-1],nums[i]\n",
    "    return nums\n",
    "\n",
    "nums=[2,0,2,1,1,0]\n",
    "sorted_array(nums)"
   ]
  },
  {
   "cell_type": "code",
   "execution_count": 5,
   "id": "3ea31dd4",
   "metadata": {},
   "outputs": [
    {
     "data": {
      "text/plain": [
       "4"
      ]
     },
     "execution_count": 5,
     "metadata": {},
     "output_type": "execute_result"
    }
   ],
   "source": [
    "def isBadVersion(version):\n",
    "    return version>=4\n",
    "def firstBadVersion(n):\n",
    "    i,j=0,n-1\n",
    "    while i<=j:\n",
    "        mid=(i+j)//2\n",
    "        if isBadVersion(mid)==False:\n",
    "            i=mid+1\n",
    "        else:\n",
    "            j=mid-1\n",
    "    return i\n",
    "n=5\n",
    "firstBadVersion(n)"
   ]
  },
  {
   "cell_type": "code",
   "execution_count": 6,
   "id": "201ae782",
   "metadata": {},
   "outputs": [
    {
     "data": {
      "text/plain": [
       "3"
      ]
     },
     "execution_count": 6,
     "metadata": {},
     "output_type": "execute_result"
    }
   ],
   "source": [
    "def max_diff(nums):\n",
    "    nums.sort()\n",
    "    maxi=0\n",
    "    if len(nums)<2:\n",
    "        return 0\n",
    "    for i in range(1,len(nums)):\n",
    "        if nums[i]-nums[i-1]>maxi:\n",
    "            maxi=nums[i]-nums[i-1]\n",
    "    return maxi\n",
    "\n",
    "nums=[3,6,9,1]\n",
    "max_diff(nums)"
   ]
  },
  {
   "cell_type": "code",
   "execution_count": 7,
   "id": "42db827d",
   "metadata": {},
   "outputs": [
    {
     "data": {
      "text/plain": [
       "False"
      ]
     },
     "execution_count": 7,
     "metadata": {},
     "output_type": "execute_result"
    }
   ],
   "source": [
    "from collections import Counter\n",
    "def duplicate(nums):\n",
    "    c=Counter(nums)\n",
    "    for i in range(len(nums)):\n",
    "        if c[i]==2:\n",
    "            return True\n",
    "    return False\n",
    "\n",
    "nums=[1,2,3,4]\n",
    "duplicate(nums)"
   ]
  },
  {
   "cell_type": "code",
   "execution_count": 10,
   "id": "4fe61076",
   "metadata": {},
   "outputs": [
    {
     "data": {
      "text/plain": [
       "2"
      ]
     },
     "execution_count": 10,
     "metadata": {},
     "output_type": "execute_result"
    }
   ],
   "source": [
    "def findMinArrowShots(points):\n",
    "    if not points:\n",
    "        return 0\n",
    "    \n",
    "    points.sort(key=lambda x: x[1])  \n",
    "    arrow_pos = points[0][1]  \n",
    "    arrows = 1  \n",
    "    \n",
    "    for i in range(1, len(points)):\n",
    "        xstart, xend = points[i]\n",
    "        if xstart > arrow_pos:\n",
    "            arrows += 1\n",
    "            arrow_pos = xend\n",
    "        else:\n",
    "            arrow_pos = min(arrow_pos, xend)\n",
    "    \n",
    "    return arrows\n",
    "\n",
    "points = [[1,2],[2,3],[3,4],[4,5]]\n",
    "findMinArrowShots(points)"
   ]
  },
  {
   "cell_type": "code",
   "execution_count": 12,
   "id": "a871a156",
   "metadata": {},
   "outputs": [
    {
     "data": {
      "text/plain": [
       "4"
      ]
     },
     "execution_count": 12,
     "metadata": {},
     "output_type": "execute_result"
    }
   ],
   "source": [
    "def longestSubsequence(nums):\n",
    "    dp = [1] * len(nums)\n",
    "    for i in range(1, len(nums)):\n",
    "        for j in range(i):\n",
    "            if nums[i] > nums[j] and dp[i] < dp[j] + 1:\n",
    "                dp[i] = dp[j] + 1\n",
    "    return max(dp)\n",
    "\n",
    "nums = [10,9,2,5,3,7,101,18]\n",
    "longestSubsequence(nums)"
   ]
  },
  {
   "cell_type": "code",
   "execution_count": 18,
   "id": "9920b1f4",
   "metadata": {},
   "outputs": [
    {
     "data": {
      "text/plain": [
       "True"
      ]
     },
     "execution_count": 18,
     "metadata": {},
     "output_type": "execute_result"
    }
   ],
   "source": [
    "def pattern(nums):\n",
    "    if len(nums)<3:\n",
    "        return False\n",
    "    x = -float('inf')\n",
    "    stack = []\n",
    "    for i in range(len(nums) - 1, -1, -1):\n",
    "        if nums[i] < x:\n",
    "            return True\n",
    "        while stack and stack[-1] < nums[i]:\n",
    "            x=stack.pop() \n",
    "        stack.append(nums[i])\n",
    "    return False\n",
    "\n",
    "nums=[3,1,4,2]\n",
    "pattern(nums)"
   ]
  }
 ],
 "metadata": {
  "kernelspec": {
   "display_name": "Python 3 (ipykernel)",
   "language": "python",
   "name": "python3"
  },
  "language_info": {
   "codemirror_mode": {
    "name": "ipython",
    "version": 3
   },
   "file_extension": ".py",
   "mimetype": "text/x-python",
   "name": "python",
   "nbconvert_exporter": "python",
   "pygments_lexer": "ipython3",
   "version": "3.9.13"
  }
 },
 "nbformat": 4,
 "nbformat_minor": 5
}
